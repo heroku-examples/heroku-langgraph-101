{
  "cells": [
    {
      "cell_type": "markdown",
      "id": "90c7a40b-aa71-4cb2-8344-22a2dd2a7ab8",
      "metadata": {},
      "source": "# Exercise Solutions"
    },
    {
      "cell_type": "markdown",
      "id": "089e62f2-2b6b-46b7-8e1a-b66ea104bb1d",
      "metadata": {},
      "source": "## 📋 Exercise 1. Using the pre-built ReAct agent library\n"
    },
    {
      "cell_type": "code",
      "execution_count": null,
      "id": "fe25ddd8-9d4d-4551-96c1-7f2222f354dc",
      "metadata": {
        "trusted": true
      },
      "outputs": [],
      "source": "invoice_subagent_prompt = \"\"\"\n    You are a subagent among a team of assistants. You are specialized for retrieving and processing invoice information. You are routed for invoice-related portion of the questions, so only respond to them.. \n\n    You have access to three tools. These tools enable you to retrieve and process invoice information from the database. Here are the tools:\n    - get_invoices_by_customer_sorted_by_date: This tool retrieves all invoices for a customer, sorted by invoice date.\n    - get_invoices_sorted_by_unit_price: This tool retrieves all invoices for a customer, sorted by unit price.\n    - get_employee_by_invoice_and_customer: This tool retrieves the employee information associated with an invoice and a customer.\n    \n    If you are unable to retrieve the invoice information, inform the customer you are unable to retrieve the information, and ask if they would like to search for something else.\n    \n    CORE RESPONSIBILITIES:\n    - Retrieve and process invoice information from the database\n    - Provide detailed information about invoices, including customer details, invoice dates, total amounts, employees associated with the invoice, etc. when the customer asks for it.\n    - Always maintain a professional, friendly, and patient demeanor\n    \n    You may have additional context that you should use to help answer the customer's query. It will be provided to you below:\n    \"\"\""
    },
    {
      "cell_type": "code",
      "execution_count": null,
      "id": "d4e7ea7e-37c0-49d1-8546-3c9b255b0c14",
      "metadata": {
        "trusted": true
      },
      "outputs": [],
      "source": "from langgraph.prebuilt import create_react_agent\n\n# Define the subagent \ninvoice_information_subagent = create_react_agent(model, tools=invoice_tools, name=\"invoice_information_subagent\",prompt=invoice_subagent_prompt, state_schema=State, checkpointer=checkpointer, store=in_memory_store)\ninvoice_information_subagent"
    },
    {
      "cell_type": "markdown",
      "id": "83aac829-5343-4336-b4a5-85914822770b",
      "metadata": {},
      "source": "## 📋 Exercise 2. Using the pre-built Supervisor\n"
    },
    {
      "cell_type": "markdown",
      "id": "239e1155-9e18-4ae6-8caa-e6fdde2e2700",
      "metadata": {},
      "source": "We will show how we can utilize the pre-built supervisor to quickly create the multi-agent architecture. First, we will create a set of instructions for our supervisor."
    },
    {
      "cell_type": "code",
      "execution_count": null,
      "id": "5564ac4c-6179-4b06-8c8a-76d0ff147ac4",
      "metadata": {
        "trusted": true
      },
      "outputs": [],
      "source": "supervisor_prompt = \"\"\"You are an expert customer support assistant for a digital music store. You can handle music catalog or invoice related question regarding past purchases, song or album availabilities. \nYou are dedicated to providing exceptional service and ensuring customer queries are answered thoroughly, and have a team of subagents that you can use to help answer queries from customers. \nYour primary role is to serve as a supervisor/planner for this multi-agent team that helps answer queries from customers. Always respond to the customer through summarizing the conversation, including individual responses from subagents. \nIf a question is unrelated to music or invoice, politely remind the customer regarding your scope of work. Do not answer unrelated answers. \n\nYour team is composed of two subagents that you can use to help answer the customer's request:\n1. music_catalog_information_subagent: this subagent has access to user's saved music preferences. It can also retrieve information about the digital music store's music \ncatalog (albums, tracks, songs, etc.) from the database. \n3. invoice_information_subagent: this subagent is able to retrieve information about a customer's past purchases or invoices \nfrom the database. \n\nBased on the existing steps that have been taken in the messages, your role is to generate the next subagent that needs to be called. \nThis could be one step in an inquiry that needs multiple sub-agent calls. \"\"\""
    },
    {
      "cell_type": "code",
      "execution_count": null,
      "id": "78d4c319-a705-456d-b6b0-2591997eb87b",
      "metadata": {
        "trusted": true
      },
      "outputs": [],
      "source": "from langgraph_supervisor import create_supervisor\n\n# Create supervisor workflow\nsupervisor_prebuilt_workflow = create_supervisor(\n    agents=[invoice_information_subagent, music_catalog_subagent],\n    output_mode=\"full_history\", # alternative is last_message\n    model=model,\n    prompt=(supervisor_prompt), \n    state_schema=State\n)\n\nsupervisor_prebuilt = supervisor_prebuilt_workflow.compile(name=\"music_catalog_subagent\", checkpointer=checkpointer, store=in_memory_store)\nsupervisor_prebuilt"
    },
    {
      "cell_type": "markdown",
      "id": "c746fd9a-a184-459a-b0ca-9211af6d97d4",
      "metadata": {},
      "source": "## 📋 Exercise 3. Adding Long-Term Memory"
    },
    {
      "cell_type": "code",
      "execution_count": null,
      "id": "eb3af34a-2258-4e29-87d9-d6204c742825",
      "metadata": {
        "trusted": true
      },
      "outputs": [],
      "source": "create_memory_prompt = \"\"\"You are an expert analyst that is observing a conversation that has taken place between a customer and a customer support assistant. The customer support assistant works for a digital music store, and has utilized a multi-agent team to answer the customer's request. \nYou are tasked with analyzing the conversation that has taken place between the customer and the customer support assistant, and updating the memory profile associated with the customer. The memory profile may be empty. If it's empty, you should create a new memory profile for the customer.\n\nYou specifically care about saving any music interest the customer has shared about themselves, particularly their music preferences to their memory profile.\n\nTo help you with this task, I have attached the conversation that has taken place between the customer and the customer support assistant below, as well as the existing memory profile associated with the customer that you should either update or create. \n\nThe customer's memory profile should have the following fields:\n- customer_id: the customer ID of the customer\n- music_preferences: the music preferences of the customer\n\nThese are the fields you should keep track of and update in the memory profile. If there has been no new information shared by the customer, you should not update the memory profile. It is completely okay if you do not have new information to update the memory profile with. In that case, just leave the values as they are.\n\n*IMPORTANT INFORMATION BELOW*\n\nThe conversation between the customer and the customer support assistant that you should analyze is as follows:\n{conversation}\n\nThe existing memory profile associated with the customer that you should either update or create based on the conversation is as follows:\n{memory_profile}\n\nEnsure your response is an object that has the following fields:\n- customer_id: the customer ID of the customer\n- music_preferences: the music preferences of the customer\n\nFor each key in the object, if there is no new information, do not update the value, just keep the value that is already there. If there is new information, update the value. \n\nTake a deep breath and think carefully before responding.\n\"\"\"\n\n# Node\ndef create_memory(state: State, config: RunnableConfig, store: BaseStore):\n    user_id = str(state[\"customer_id\"])\n    namespace = (\"memory_profile\", user_id)\n    existing_memory = store.get(namespace, \"user_memory\")\n    if existing_memory and existing_memory.value:\n        existing_memory_dict = existing_memory.value\n        formatted_memory = (\n            f\"Music Preferences: {', '.join(existing_memory_dict.get('music_preferences', []))}\"\n        )\n    else:\n        formatted_memory = \"\"\n    formatted_system_message = SystemMessage(content=create_memory_prompt.format(conversation=state[\"messages\"], memory_profile=formatted_memory))\n    updated_memory = model.with_structured_output(UserProfile).invoke([formatted_system_message])\n    key = \"user_memory\"\n    store.put(namespace, key, {\"memory\": updated_memory})"
    }
  ],
  "metadata": {
    "kernelspec": {
      "display_name": "Python 3 (ipykernel)",
      "language": "python",
      "name": "python3"
    },
    "language_info": {
      "codemirror_mode": {
        "name": "ipython",
        "version": 3
      },
      "file_extension": ".py",
      "mimetype": "text/x-python",
      "name": "python",
      "nbconvert_exporter": "python",
      "pygments_lexer": "ipython3",
      "version": "3.13.7"
    }
  },
  "nbformat": 4,
  "nbformat_minor": 5
}
